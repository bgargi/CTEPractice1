{
 "cells": [
  {
   "cell_type": "code",
   "execution_count": 2,
   "metadata": {},
   "outputs": [
    {
     "name": "stdout",
     "output_type": "stream",
     "text": [
      "Sum of all digits in ID :29\n"
     ]
    }
   ],
   "source": [
    "# to print sum of all digits in my ID number\n",
    "a='2018A3PS0762G'\n",
    "s=0\n",
    "my_list=[i for i in a]\n",
    "for i in my_list:\n",
    "    if (i.isdigit()):\n",
    "        s+=int(i)\n",
    "\n",
    "print(\"Sum of all digits in ID :\" + str(s))        "
   ]
  }
 ],
 "metadata": {
  "kernelspec": {
   "display_name": "Python 3",
   "language": "python",
   "name": "python3"
  },
  "language_info": {
   "codemirror_mode": {
    "name": "ipython",
    "version": 3
   },
   "file_extension": ".py",
   "mimetype": "text/x-python",
   "name": "python",
   "nbconvert_exporter": "python",
   "pygments_lexer": "ipython3",
   "version": "3.6.5"
  }
 },
 "nbformat": 4,
 "nbformat_minor": 2
}
